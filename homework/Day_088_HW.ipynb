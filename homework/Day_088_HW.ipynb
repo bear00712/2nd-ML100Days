{
 "cells": [
  {
   "cell_type": "markdown",
   "metadata": {},
   "source": [
    "## Work\n",
    "1. 請嘗試寫一個 callback 用來記錄各類別在訓練過程中，對驗證集的 True Positive 與 True Negative"
   ]
  },
  {
   "cell_type": "code",
   "execution_count": 1,
   "metadata": {},
   "outputs": [
    {
     "name": "stderr",
     "output_type": "stream",
     "text": [
      "Using TensorFlow backend.\n"
     ]
    }
   ],
   "source": [
    "import os\n",
    "import keras\n"
   ]
  },
  {
   "cell_type": "code",
   "execution_count": 2,
   "metadata": {},
   "outputs": [],
   "source": [
    "train, test = keras.datasets.cifar10.load_data()"
   ]
  },
  {
   "cell_type": "code",
   "execution_count": 3,
   "metadata": {},
   "outputs": [],
   "source": [
    "## 資料前處理\n",
    "def preproc_x(x, flatten=True):\n",
    "    x = x / 255.\n",
    "    if flatten:\n",
    "        x = x.reshape((len(x), -1))\n",
    "    return x\n",
    "\n",
    "def preproc_y(y, num_classes=10):\n",
    "    if y.shape[-1] == 1:\n",
    "        y = keras.utils.to_categorical(y, num_classes)\n",
    "    return y    "
   ]
  },
  {
   "cell_type": "code",
   "execution_count": 4,
   "metadata": {},
   "outputs": [],
   "source": [
    "x_train, y_train = train\n",
    "x_test, y_test = test\n",
    "\n",
    "# Preproc the inputs\n",
    "x_train = preproc_x(x_train)\n",
    "x_test = preproc_x(x_test)\n",
    "\n",
    "# Preprc the outputs\n",
    "y_train = preproc_y(y_train)\n",
    "y_test = preproc_y(y_test)"
   ]
  },
  {
   "cell_type": "code",
   "execution_count": 5,
   "metadata": {},
   "outputs": [],
   "source": [
    "from keras.layers import BatchNormalization\n",
    "\n",
    "\"\"\"\n",
    "建立神經網路，並加入 BN layer\n",
    "\"\"\"\n",
    "def build_mlp(input_shape, output_units=10, num_neurons=[512, 256, 128]):\n",
    "    input_layer = keras.layers.Input(input_shape)\n",
    "    \n",
    "    for i, n_units in enumerate(num_neurons):\n",
    "        if i == 0:\n",
    "            x = keras.layers.Dense(units=n_units, \n",
    "                                   activation=\"relu\", \n",
    "                                   name=\"hidden_layer\"+str(i+1))(input_layer)\n",
    "            x = BatchNormalization()(x)\n",
    "        else:\n",
    "            x = keras.layers.Dense(units=n_units, \n",
    "                                   activation=\"relu\", \n",
    "                                   name=\"hidden_layer\"+str(i+1))(x)\n",
    "            x = BatchNormalization()(x)\n",
    "    \n",
    "    out = keras.layers.Dense(units=output_units, activation=\"softmax\", name=\"output\")(x)\n",
    "    \n",
    "    model = keras.models.Model(inputs=[input_layer], outputs=[out])\n",
    "    return model"
   ]
  },
  {
   "cell_type": "code",
   "execution_count": 6,
   "metadata": {},
   "outputs": [],
   "source": [
    "## 超參數設定\n",
    "LEARNING_RATE = 1e-3\n",
    "EPOCHS = 25\n",
    "BATCH_SIZE = 1024\n",
    "MOMENTUM = 0.95"
   ]
  },
  {
   "cell_type": "code",
   "execution_count": 9,
   "metadata": {},
   "outputs": [],
   "source": [
    "# 載入 Callbacks\n",
    "from keras.callbacks import Callback\n",
    "import numpy as np\n",
    "# Record_fp_tp\n",
    "class Record_tp_tn(Callback):\n",
    "    \"\"\"Code Here\n",
    "    撰寫一個紀錄 ture positive 與 true negative 數量的 callbacks    \n",
    "    \"\"\"\n",
    "    def on_train_begin(self, epoch, logs = {}):\n",
    "        logs = logs or {}\n",
    "        record_items = [\"val_tp\", \"val_tn\"]\n",
    "        for i in record_items:\n",
    "            if i not in self.params['metrics']:\n",
    "                self.params['metrics'].append(i)\n",
    "            \n",
    "    def on_epoch_end(self, epoch, logs = {}, thres=0.5):\n",
    "        logs = logs or {}\n",
    "        y_true = self.validation_data[1].argmax(axis = 1)\n",
    "        y_pred = self.model.predict(self.validation_data[0])\n",
    "        y_pred = (y_pred[:, 1] >= thres) * 1\n",
    "        logs[\"val_tp\"] = np.sum(np.logical_and(y_pred == 1, y_true == 1))\n",
    "        logs[\"val_tn\"] = np.sum(np.logical_and(y_pred == 0, y_true == 0))\n",
    "        \n",
    "rec_tptn = Record_tp_tn()"
   ]
  },
  {
   "cell_type": "code",
   "execution_count": 10,
   "metadata": {
    "scrolled": true
   },
   "outputs": [
    {
     "name": "stdout",
     "output_type": "stream",
     "text": [
      "_________________________________________________________________\n",
      "Layer (type)                 Output Shape              Param #   \n",
      "=================================================================\n",
      "input_2 (InputLayer)         (None, 3072)              0         \n",
      "_________________________________________________________________\n",
      "hidden_layer1 (Dense)        (None, 512)               1573376   \n",
      "_________________________________________________________________\n",
      "batch_normalization_4 (Batch (None, 512)               2048      \n",
      "_________________________________________________________________\n",
      "hidden_layer2 (Dense)        (None, 256)               131328    \n",
      "_________________________________________________________________\n",
      "batch_normalization_5 (Batch (None, 256)               1024      \n",
      "_________________________________________________________________\n",
      "hidden_layer3 (Dense)        (None, 128)               32896     \n",
      "_________________________________________________________________\n",
      "batch_normalization_6 (Batch (None, 128)               512       \n",
      "_________________________________________________________________\n",
      "output (Dense)               (None, 10)                1290      \n",
      "=================================================================\n",
      "Total params: 1,742,474\n",
      "Trainable params: 1,740,682\n",
      "Non-trainable params: 1,792\n",
      "_________________________________________________________________\n",
      "Train on 50000 samples, validate on 10000 samples\n",
      "Epoch 1/25\n",
      "50000/50000 [==============================] - 2s 48us/step - loss: 2.1947 - acc: 0.2747 - val_loss: 2.0689 - val_acc: 0.3251\n",
      "Epoch 2/25\n",
      "50000/50000 [==============================] - 1s 29us/step - loss: 1.7233 - acc: 0.3971 - val_loss: 1.7949 - val_acc: 0.3858\n",
      "Epoch 3/25\n",
      "50000/50000 [==============================] - 1s 28us/step - loss: 1.6017 - acc: 0.4418 - val_loss: 1.6659 - val_acc: 0.4230\n",
      "Epoch 4/25\n",
      "50000/50000 [==============================] - 1s 28us/step - loss: 1.5298 - acc: 0.4684 - val_loss: 1.6185 - val_acc: 0.4321\n",
      "Epoch 5/25\n",
      "50000/50000 [==============================] - 1s 26us/step - loss: 1.4761 - acc: 0.4863 - val_loss: 1.5840 - val_acc: 0.4430\n",
      "Epoch 6/25\n",
      "50000/50000 [==============================] - 1s 30us/step - loss: 1.4334 - acc: 0.5022 - val_loss: 1.5530 - val_acc: 0.4501\n",
      "Epoch 7/25\n",
      "50000/50000 [==============================] - 1s 28us/step - loss: 1.3950 - acc: 0.5164 - val_loss: 1.5332 - val_acc: 0.4574\n",
      "Epoch 8/25\n",
      "50000/50000 [==============================] - 1s 28us/step - loss: 1.3614 - acc: 0.5299 - val_loss: 1.5232 - val_acc: 0.4651\n",
      "Epoch 9/25\n",
      "50000/50000 [==============================] - 1s 27us/step - loss: 1.3317 - acc: 0.5396 - val_loss: 1.5209 - val_acc: 0.4602\n",
      "Epoch 10/25\n",
      "50000/50000 [==============================] - 2s 31us/step - loss: 1.3019 - acc: 0.5509 - val_loss: 1.4993 - val_acc: 0.4625\n",
      "Epoch 11/25\n",
      "50000/50000 [==============================] - 2s 32us/step - loss: 1.2751 - acc: 0.5602 - val_loss: 1.4869 - val_acc: 0.4729\n",
      "Epoch 12/25\n",
      "50000/50000 [==============================] - 1s 30us/step - loss: 1.2487 - acc: 0.5701 - val_loss: 1.4814 - val_acc: 0.4774\n",
      "Epoch 13/25\n",
      "50000/50000 [==============================] - 2s 30us/step - loss: 1.2243 - acc: 0.5777 - val_loss: 1.4882 - val_acc: 0.4832\n",
      "Epoch 14/25\n",
      "50000/50000 [==============================] - 1s 28us/step - loss: 1.2011 - acc: 0.5874 - val_loss: 1.4674 - val_acc: 0.4851\n",
      "Epoch 15/25\n",
      "50000/50000 [==============================] - 1s 25us/step - loss: 1.1769 - acc: 0.5965 - val_loss: 1.4659 - val_acc: 0.4821\n",
      "Epoch 16/25\n",
      "50000/50000 [==============================] - 1s 25us/step - loss: 1.1543 - acc: 0.6046 - val_loss: 1.4644 - val_acc: 0.4819\n",
      "Epoch 17/25\n",
      "50000/50000 [==============================] - 1s 27us/step - loss: 1.1319 - acc: 0.6132 - val_loss: 1.4554 - val_acc: 0.4940\n",
      "Epoch 18/25\n",
      "50000/50000 [==============================] - 1s 29us/step - loss: 1.1100 - acc: 0.6209 - val_loss: 1.4645 - val_acc: 0.4904\n",
      "Epoch 19/25\n",
      "50000/50000 [==============================] - 1s 28us/step - loss: 1.0892 - acc: 0.6277 - val_loss: 1.4719 - val_acc: 0.4850\n",
      "Epoch 20/25\n",
      "50000/50000 [==============================] - 1s 28us/step - loss: 1.0696 - acc: 0.6367 - val_loss: 1.4617 - val_acc: 0.4882\n",
      "Epoch 21/25\n",
      "50000/50000 [==============================] - 1s 28us/step - loss: 1.0486 - acc: 0.6444 - val_loss: 1.4484 - val_acc: 0.4947\n",
      "Epoch 22/25\n",
      "50000/50000 [==============================] - 2s 35us/step - loss: 1.0259 - acc: 0.6523 - val_loss: 1.4594 - val_acc: 0.4898\n",
      "Epoch 23/25\n",
      "50000/50000 [==============================] - 1s 30us/step - loss: 1.0051 - acc: 0.6599 - val_loss: 1.4675 - val_acc: 0.4910\n",
      "Epoch 24/25\n",
      "50000/50000 [==============================] - 2s 33us/step - loss: 0.9879 - acc: 0.6677 - val_loss: 1.4535 - val_acc: 0.4930\n",
      "Epoch 25/25\n",
      "50000/50000 [==============================] - 1s 30us/step - loss: 0.9667 - acc: 0.6751 - val_loss: 1.4592 - val_acc: 0.4942\n"
     ]
    }
   ],
   "source": [
    "model = build_mlp(input_shape=x_train.shape[1:])\n",
    "model.summary()\n",
    "optimizer = keras.optimizers.SGD(lr=LEARNING_RATE, nesterov=True, momentum=MOMENTUM)\n",
    "model.compile(loss=\"categorical_crossentropy\", metrics=[\"accuracy\"], optimizer=optimizer)\n",
    "\n",
    "\"\"\"Code Here\n",
    "將 callbacks 放入模型訓練流程中\n",
    "\"\"\"\n",
    "model.fit(x_train, y_train, \n",
    "          epochs=EPOCHS, \n",
    "          batch_size=BATCH_SIZE, \n",
    "          validation_data=(x_test, y_test), \n",
    "          shuffle=True,\n",
    "          callbacks=[rec_tptn])\n",
    "\n",
    "# Collect results\n",
    "train_loss = model.history.history[\"loss\"]\n",
    "valid_loss = model.history.history[\"val_loss\"]\n",
    "train_acc = model.history.history[\"acc\"]\n",
    "valid_acc = model.history.history[\"val_acc\"]\n",
    "\n",
    "\"\"\"Code Here\n",
    "將 tp/tn 從訓練完的模型中取出\n",
    "\"\"\"\n",
    "valid_tp = model.history.history['val_tp']\n",
    "valid_tn = model.history.history['val_tn']"
   ]
  },
  {
   "cell_type": "code",
   "execution_count": 11,
   "metadata": {},
   "outputs": [
    {
     "data": {
      "image/png": "[encoded data removed]",
      "text/plain": [
       "<Figure size 432x288 with 1 Axes>"
      ]
     },
     "metadata": {
      "needs_background": "light"
     },
     "output_type": "display_data"
    },
    {
     "data": {
      "image/png": "[encoded data removed]",
      "text/plain": [
       "<Figure size 432x288 with 1 Axes>"
      ]
     },
     "metadata": {
      "needs_background": "light"
     },
     "output_type": "display_data"
    },
    {
     "data": {
      "image/png": "[encoded data removed]",
      "text/plain": [
       "<Figure size 432x288 with 1 Axes>"
      ]
     },
     "metadata": {
      "needs_background": "light"
     },
     "output_type": "display_data"
    }
   ],
   "source": [
    "import matplotlib.pyplot as plt\n",
    "%matplotlib inline\n",
    "\n",
    "plt.plot(range(len(train_loss)), train_loss, label=\"train loss\")\n",
    "plt.plot(range(len(valid_loss)), valid_loss, label=\"valid loss\")\n",
    "plt.legend()\n",
    "plt.title(\"Loss\")\n",
    "plt.show()\n",
    "\n",
    "plt.plot(range(len(train_acc)), train_acc, label=\"train accuracy\")\n",
    "plt.plot(range(len(valid_acc)), valid_acc, label=\"valid accuracy\")\n",
    "plt.legend()\n",
    "plt.title(\"Accuracy\")\n",
    "plt.show()\n",
    "\n",
    "plt.plot(range(len(valid_tp)), valid_tp, label=\"valid tp\", color=\"navy\")\n",
    "plt.plot(range(len(valid_tn)), valid_tn, label=\"valid tn\", color=\"red\")\n",
    "plt.legend()\n",
    "plt.title(\"True positives and True Negatives\")\n",
    "plt.show()\n"
   ]
  },
  {
   "cell_type": "code",
   "execution_count": null,
   "metadata": {},
   "outputs": [],
   "source": []
  }
 ],
 "metadata": {
  "kernelspec": {
   "display_name": "Python 3",
   "language": "python",
   "name": "python3"
  },
  "language_info": {
   "codemirror_mode": {
    "name": "ipython",
    "version": 3
   },
   "file_extension": ".py",
   "mimetype": "text/x-python",
   "name": "python",
   "nbconvert_exporter": "python",
   "pygments_lexer": "ipython3",
   "version": "3.6.8"
  }
 },
 "nbformat": 4,
 "nbformat_minor": 2
}

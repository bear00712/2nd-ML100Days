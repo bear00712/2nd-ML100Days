{
 "cells": [
  {
   "cell_type": "markdown",
   "metadata": {},
   "source": [
    "## Work\n",
    "1. 試比較 save_best_only 與否的差異\n",
    "2. 請僅存入將 save_weights_only 設定為 True, 並嘗試 reset ipynb 並將模型與權重重新建回並預測 x_test"
   ]
  },
  {
   "cell_type": "code",
   "execution_count": 1,
   "metadata": {},
   "outputs": [
    {
     "name": "stderr",
     "output_type": "stream",
     "text": [
      "Using TensorFlow backend.\n"
     ]
    }
   ],
   "source": [
    "import os\n",
    "import keras\n"
   ]
  },
  {
   "cell_type": "code",
   "execution_count": 2,
   "metadata": {},
   "outputs": [],
   "source": [
    "train, test = keras.datasets.cifar10.load_data()"
   ]
  },
  {
   "cell_type": "code",
   "execution_count": 3,
   "metadata": {},
   "outputs": [],
   "source": [
    "## 資料前處理\n",
    "def preproc_x(x, flatten=True):\n",
    "    x = x / 255.\n",
    "    if flatten:\n",
    "        x = x.reshape((len(x), -1))\n",
    "    return x\n",
    "\n",
    "def preproc_y(y, num_classes=10):\n",
    "    if y.shape[-1] == 1:\n",
    "        y = keras.utils.to_categorical(y, num_classes)\n",
    "    return y    "
   ]
  },
  {
   "cell_type": "code",
   "execution_count": 4,
   "metadata": {},
   "outputs": [],
   "source": [
    "x_train, y_train = train\n",
    "x_test, y_test = test\n",
    "\n",
    "# Preproc the inputs\n",
    "x_train = preproc_x(x_train)\n",
    "x_test = preproc_x(x_test)\n",
    "\n",
    "# Preprc the outputs\n",
    "y_train = preproc_y(y_train)\n",
    "y_test = preproc_y(y_test)"
   ]
  },
  {
   "cell_type": "code",
   "execution_count": 5,
   "metadata": {},
   "outputs": [],
   "source": [
    "\n",
    "def build_mlp(input_shape, output_units=10, num_neurons=[512, 256, 128]):\n",
    "    input_layer = keras.layers.Input(input_shape)\n",
    "    \n",
    "    for i, n_units in enumerate(num_neurons):\n",
    "        if i == 0:\n",
    "            x = keras.layers.Dense(units=n_units, \n",
    "                                   activation=\"relu\", \n",
    "                                   name=\"hidden_layer\"+str(i+1))(input_layer)\n",
    "            x = BatchNormalization()(x)\n",
    "        else:\n",
    "            x = keras.layers.Dense(units=n_units, \n",
    "                                   activation=\"relu\", \n",
    "                                   name=\"hidden_layer\"+str(i+1))(x)\n",
    "            x = BatchNormalization()(x)\n",
    "    \n",
    "    out = keras.layers.Dense(units=output_units, activation=\"softmax\", name=\"output\")(x)\n",
    "    \n",
    "    model = keras.models.Model(inputs=[input_layer], outputs=[out])\n",
    "    return model"
   ]
  },
  {
   "cell_type": "code",
   "execution_count": 6,
   "metadata": {},
   "outputs": [],
   "source": [
    "\"\"\"Code Here\n",
    "設定超參數\n",
    "\"\"\"\n",
    "LEARNING_RATE = 1e-3\n",
    "EPOCHS = 50\n",
    "BATCH_SIZE = 1024\n",
    "MOMENTUM = 0.95"
   ]
  },
  {
   "cell_type": "code",
   "execution_count": 7,
   "metadata": {},
   "outputs": [
    {
     "name": "stdout",
     "output_type": "stream",
     "text": [
      "_________________________________________________________________\n",
      "Layer (type)                 Output Shape              Param #   \n",
      "=================================================================\n",
      "input_1 (InputLayer)         (None, 3072)              0         \n",
      "_________________________________________________________________\n",
      "hidden_layer1 (Dense)        (None, 512)               1573376   \n",
      "_________________________________________________________________\n",
      "batch_normalization_1 (Batch (None, 512)               2048      \n",
      "_________________________________________________________________\n",
      "hidden_layer2 (Dense)        (None, 256)               131328    \n",
      "_________________________________________________________________\n",
      "batch_normalization_2 (Batch (None, 256)               1024      \n",
      "_________________________________________________________________\n",
      "hidden_layer3 (Dense)        (None, 128)               32896     \n",
      "_________________________________________________________________\n",
      "batch_normalization_3 (Batch (None, 128)               512       \n",
      "_________________________________________________________________\n",
      "output (Dense)               (None, 10)                1290      \n",
      "=================================================================\n",
      "Total params: 1,742,474\n",
      "Trainable params: 1,740,682\n",
      "Non-trainable params: 1,792\n",
      "_________________________________________________________________\n",
      "Train on 50000 samples, validate on 10000 samples\n",
      "Epoch 1/50\n",
      "50000/50000 [==============================] - 4s 85us/step - loss: 2.2185 - acc: 0.2736 - val_loss: 2.1251 - val_acc: 0.3168\n",
      "Epoch 2/50\n",
      "50000/50000 [==============================] - 1s 27us/step - loss: 1.7374 - acc: 0.3902 - val_loss: 1.7823 - val_acc: 0.3822\n",
      "Epoch 3/50\n",
      "50000/50000 [==============================] - 1s 26us/step - loss: 1.6103 - acc: 0.4328 - val_loss: 1.6809 - val_acc: 0.4162\n",
      "Epoch 4/50\n",
      "50000/50000 [==============================] - 1s 26us/step - loss: 1.5374 - acc: 0.4606 - val_loss: 1.6170 - val_acc: 0.4354\n",
      "Epoch 5/50\n",
      "50000/50000 [==============================] - 1s 26us/step - loss: 1.4813 - acc: 0.4793 - val_loss: 1.5819 - val_acc: 0.4408\n",
      "Epoch 6/50\n",
      "50000/50000 [==============================] - 1s 26us/step - loss: 1.4363 - acc: 0.4959 - val_loss: 1.5517 - val_acc: 0.4516\n",
      "Epoch 7/50\n",
      "50000/50000 [==============================] - 1s 26us/step - loss: 1.3974 - acc: 0.5093 - val_loss: 1.5285 - val_acc: 0.4610\n",
      "Epoch 8/50\n",
      "50000/50000 [==============================] - 1s 27us/step - loss: 1.3646 - acc: 0.5220 - val_loss: 1.5402 - val_acc: 0.4576\n",
      "Epoch 9/50\n",
      "50000/50000 [==============================] - 2s 30us/step - loss: 1.3343 - acc: 0.5332 - val_loss: 1.5049 - val_acc: 0.4740\n",
      "Epoch 10/50\n",
      "50000/50000 [==============================] - 2s 32us/step - loss: 1.3048 - acc: 0.5459 - val_loss: 1.4901 - val_acc: 0.4712\n",
      "Epoch 11/50\n",
      "50000/50000 [==============================] - 1s 27us/step - loss: 1.2767 - acc: 0.5553 - val_loss: 1.4881 - val_acc: 0.4760\n",
      "Epoch 12/50\n",
      "50000/50000 [==============================] - 1s 28us/step - loss: 1.2494 - acc: 0.5663 - val_loss: 1.4766 - val_acc: 0.4780\n",
      "Epoch 13/50\n",
      "50000/50000 [==============================] - 1s 27us/step - loss: 1.2237 - acc: 0.5744 - val_loss: 1.4709 - val_acc: 0.4765\n",
      "Epoch 14/50\n",
      "50000/50000 [==============================] - 1s 26us/step - loss: 1.2006 - acc: 0.5830 - val_loss: 1.4733 - val_acc: 0.4840\n",
      "Epoch 15/50\n",
      "50000/50000 [==============================] - 1s 26us/step - loss: 1.1777 - acc: 0.5918 - val_loss: 1.4573 - val_acc: 0.4859\n",
      "Epoch 16/50\n",
      "50000/50000 [==============================] - 2s 33us/step - loss: 1.1555 - acc: 0.5993 - val_loss: 1.4440 - val_acc: 0.4925\n",
      "Epoch 17/50\n",
      "50000/50000 [==============================] - 2s 32us/step - loss: 1.1304 - acc: 0.6094 - val_loss: 1.4582 - val_acc: 0.4880\n",
      "Epoch 18/50\n",
      "50000/50000 [==============================] - 1s 28us/step - loss: 1.1084 - acc: 0.6194 - val_loss: 1.4570 - val_acc: 0.4937\n",
      "Epoch 19/50\n",
      "50000/50000 [==============================] - 2s 31us/step - loss: 1.0872 - acc: 0.6267 - val_loss: 1.4524 - val_acc: 0.4910\n",
      "Epoch 20/50\n",
      "50000/50000 [==============================] - 2s 32us/step - loss: 1.0657 - acc: 0.6366 - val_loss: 1.4426 - val_acc: 0.4953\n",
      "Epoch 21/50\n",
      "50000/50000 [==============================] - 2s 34us/step - loss: 1.0432 - acc: 0.6435 - val_loss: 1.4466 - val_acc: 0.4948\n",
      "Epoch 22/50\n",
      "50000/50000 [==============================] - 2s 32us/step - loss: 1.0231 - acc: 0.6523 - val_loss: 1.4582 - val_acc: 0.4913\n",
      "Epoch 23/50\n",
      "50000/50000 [==============================] - 1s 30us/step - loss: 1.0006 - acc: 0.6603 - val_loss: 1.4334 - val_acc: 0.4991\n",
      "Epoch 24/50\n",
      "50000/50000 [==============================] - 2s 31us/step - loss: 0.9797 - acc: 0.6695 - val_loss: 1.4462 - val_acc: 0.4968\n",
      "Epoch 25/50\n",
      "50000/50000 [==============================] - 1s 29us/step - loss: 0.9610 - acc: 0.6762 - val_loss: 1.4638 - val_acc: 0.4871\n",
      "Epoch 26/50\n",
      "50000/50000 [==============================] - 1s 29us/step - loss: 0.9430 - acc: 0.6832 - val_loss: 1.4615 - val_acc: 0.4982\n",
      "Epoch 27/50\n",
      "50000/50000 [==============================] - 2s 37us/step - loss: 0.9216 - acc: 0.6902 - val_loss: 1.4617 - val_acc: 0.4952\n",
      "Epoch 28/50\n",
      "50000/50000 [==============================] - 1s 30us/step - loss: 0.9002 - acc: 0.6990 - val_loss: 1.4657 - val_acc: 0.4927\n",
      "Epoch 29/50\n",
      "50000/50000 [==============================] - 1s 27us/step - loss: 0.8810 - acc: 0.7064 - val_loss: 1.4684 - val_acc: 0.4960\n",
      "Epoch 30/50\n",
      "50000/50000 [==============================] - 1s 29us/step - loss: 0.8621 - acc: 0.7144 - val_loss: 1.4592 - val_acc: 0.4973\n",
      "Epoch 31/50\n",
      "50000/50000 [==============================] - 1s 29us/step - loss: 0.8432 - acc: 0.7208 - val_loss: 1.4825 - val_acc: 0.4947\n",
      "Epoch 32/50\n",
      "50000/50000 [==============================] - 2s 30us/step - loss: 0.8245 - acc: 0.7295 - val_loss: 1.4859 - val_acc: 0.4960\n",
      "Epoch 33/50\n",
      "50000/50000 [==============================] - 1s 28us/step - loss: 0.8063 - acc: 0.7369 - val_loss: 1.5099 - val_acc: 0.4964\n",
      "Epoch 34/50\n",
      "50000/50000 [==============================] - 1s 29us/step - loss: 0.7875 - acc: 0.7451 - val_loss: 1.5008 - val_acc: 0.4942\n",
      "Epoch 35/50\n",
      "50000/50000 [==============================] - 1s 27us/step - loss: 0.7688 - acc: 0.7526 - val_loss: 1.4916 - val_acc: 0.4961\n",
      "Epoch 36/50\n",
      "50000/50000 [==============================] - 1s 26us/step - loss: 0.7485 - acc: 0.7607 - val_loss: 1.5258 - val_acc: 0.4904\n",
      "Epoch 37/50\n",
      "50000/50000 [==============================] - 1s 25us/step - loss: 0.7293 - acc: 0.7682 - val_loss: 1.5198 - val_acc: 0.4926\n",
      "Epoch 38/50\n",
      "50000/50000 [==============================] - 1s 25us/step - loss: 0.7122 - acc: 0.7749 - val_loss: 1.5236 - val_acc: 0.4968\n",
      "Epoch 39/50\n",
      "50000/50000 [==============================] - 1s 26us/step - loss: 0.6923 - acc: 0.7824 - val_loss: 1.5476 - val_acc: 0.4952\n",
      "Epoch 40/50\n",
      "50000/50000 [==============================] - 1s 25us/step - loss: 0.6749 - acc: 0.7909 - val_loss: 1.5371 - val_acc: 0.4848\n",
      "Epoch 41/50\n",
      "50000/50000 [==============================] - 1s 27us/step - loss: 0.6562 - acc: 0.7965 - val_loss: 1.5429 - val_acc: 0.4959\n",
      "Epoch 42/50\n",
      "50000/50000 [==============================] - 1s 26us/step - loss: 0.6401 - acc: 0.8040 - val_loss: 1.5707 - val_acc: 0.4948\n",
      "Epoch 43/50\n",
      "50000/50000 [==============================] - 1s 25us/step - loss: 0.6217 - acc: 0.8118 - val_loss: 1.5753 - val_acc: 0.4898\n",
      "Epoch 44/50\n",
      "50000/50000 [==============================] - 1s 25us/step - loss: 0.6064 - acc: 0.8177 - val_loss: 1.5781 - val_acc: 0.4926\n",
      "Epoch 45/50\n",
      "50000/50000 [==============================] - 1s 25us/step - loss: 0.5870 - acc: 0.8244 - val_loss: 1.5911 - val_acc: 0.4949\n",
      "Epoch 46/50\n",
      "50000/50000 [==============================] - 1s 26us/step - loss: 0.5708 - acc: 0.8308 - val_loss: 1.6171 - val_acc: 0.4890\n",
      "Epoch 47/50\n",
      "50000/50000 [==============================] - 1s 25us/step - loss: 0.5525 - acc: 0.8385 - val_loss: 1.6028 - val_acc: 0.4915\n",
      "Epoch 48/50\n",
      "50000/50000 [==============================] - 1s 25us/step - loss: 0.5345 - acc: 0.8452 - val_loss: 1.6158 - val_acc: 0.4930\n",
      "Epoch 49/50\n",
      "50000/50000 [==============================] - 1s 25us/step - loss: 0.5215 - acc: 0.8491 - val_loss: 1.6309 - val_acc: 0.4898\n"
     ]
    },
    {
     "name": "stdout",
     "output_type": "stream",
     "text": [
      "Epoch 50/50\n",
      "50000/50000 [==============================] - 1s 26us/step - loss: 0.5019 - acc: 0.8595 - val_loss: 1.6577 - val_acc: 0.4914\n"
     ]
    }
   ],
   "source": [
    "# 載入 Callbacks\n",
    "\"\"\"Code Here\n",
    "設定 callbacks: model checkpoint\n",
    "試比較 save_best_only 與否的差異\n",
    "請僅存入將 save_weights_only 設定為 True, 並嘗試 reset ipynb 並將模型與權重重新建回並預測 x_test\n",
    "\"\"\"\n",
    "from keras.callbacks import ModelCheckpoint\n",
    "from keras.layers import BatchNormalization\n",
    "\n",
    "model_ckpt = ModelCheckpoint(filepath=\"./tmp.h5\", \n",
    "                             monitor=\"val_loss\", \n",
    "                             save_best_only=True,\n",
    "                             save_weights_only=True)\n",
    "\n",
    "results = {}\n",
    "\"\"\"Code Here\n",
    "撰寫你的訓練流程並將結果用 dictionary 紀錄\n",
    "\"\"\"\n",
    "model = build_mlp(input_shape=x_train.shape[1:])\n",
    "model.summary()\n",
    "optimizer = keras.optimizers.SGD(lr=LEARNING_RATE, nesterov=True, momentum=MOMENTUM)\n",
    "model.compile(loss=\"categorical_crossentropy\", metrics=[\"accuracy\"], optimizer=optimizer)\n",
    "\n",
    "model.fit(x_train, y_train, \n",
    "          epochs=EPOCHS, \n",
    "          batch_size=BATCH_SIZE, \n",
    "          validation_data=(x_test, y_test), \n",
    "          shuffle=True,\n",
    "          callbacks=[model_ckpt]\n",
    "         )\n",
    "\n",
    "# Collect results\n",
    "train_loss = model.history.history[\"loss\"]\n",
    "valid_loss = model.history.history[\"val_loss\"]\n",
    "train_acc = model.history.history[\"acc\"]\n",
    "valid_acc = model.history.history[\"val_acc\"]\n"
   ]
  },
  {
   "cell_type": "code",
   "execution_count": 8,
   "metadata": {
    "scrolled": true
   },
   "outputs": [
    {
     "name": "stdout",
     "output_type": "stream",
     "text": [
      "10000/10000 [==============================] - 1s 89us/step\n"
     ]
    },
    {
     "data": {
      "image/png": "[encoded data removed]",
      "text/plain": [
       "<Figure size 432x288 with 1 Axes>"
      ]
     },
     "metadata": {
      "needs_background": "light"
     },
     "output_type": "display_data"
    },
    {
     "data": {
      "image/png": "[encoded data removed]",
      "text/plain": [
       "<Figure size 432x288 with 1 Axes>"
      ]
     },
     "metadata": {
      "needs_background": "light"
     },
     "output_type": "display_data"
    }
   ],
   "source": [
    "import matplotlib.pyplot as plt\n",
    "%matplotlib inline\n",
    "\"\"\"Code Here\n",
    "將結果繪出\n",
    "\"\"\"\n",
    "# Load back\n",
    "# Load back\n",
    "model.load_weights(\"./tmp.h5\")\n",
    "loss_loadback, acc_loadback = model.evaluate(x_test, y_test)\n",
    "\n",
    "\n",
    "plt.plot(range(len(train_loss)), train_loss, label=\"train loss\")\n",
    "plt.plot(range(len(valid_loss)), valid_loss, label=\"valid loss\")\n",
    "plt.hlines(y=loss_loadback, xmin=0, xmax=len(train_loss), colors='r', linestyles='--')\n",
    "plt.legend()\n",
    "plt.title(\"Loss\")\n",
    "plt.show()\n",
    "\n",
    "plt.plot(range(len(train_acc)), train_acc, label=\"train accuracy\")\n",
    "plt.plot(range(len(valid_acc)), valid_acc, label=\"valid accuracy\")\n",
    "plt.hlines(y=acc_loadback, xmin=0, xmax=len(train_loss), colors='r', linestyles='--')\n",
    "plt.legend()\n",
    "plt.title(\"Accuracy\")\n",
    "plt.show()"
   ]
  },
  {
   "cell_type": "code",
   "execution_count": 9,
   "metadata": {},
   "outputs": [
    {
     "name": "stdout",
     "output_type": "stream",
     "text": [
      "_________________________________________________________________\n",
      "Layer (type)                 Output Shape              Param #   \n",
      "=================================================================\n",
      "input_2 (InputLayer)         (None, 3072)              0         \n",
      "_________________________________________________________________\n",
      "hidden_layer1 (Dense)        (None, 512)               1573376   \n",
      "_________________________________________________________________\n",
      "batch_normalization_4 (Batch (None, 512)               2048      \n",
      "_________________________________________________________________\n",
      "hidden_layer2 (Dense)        (None, 256)               131328    \n",
      "_________________________________________________________________\n",
      "batch_normalization_5 (Batch (None, 256)               1024      \n",
      "_________________________________________________________________\n",
      "hidden_layer3 (Dense)        (None, 128)               32896     \n",
      "_________________________________________________________________\n",
      "batch_normalization_6 (Batch (None, 128)               512       \n",
      "_________________________________________________________________\n",
      "output (Dense)               (None, 10)                1290      \n",
      "=================================================================\n",
      "Total params: 1,742,474\n",
      "Trainable params: 1,740,682\n",
      "Non-trainable params: 1,792\n",
      "_________________________________________________________________\n",
      "Train on 50000 samples, validate on 10000 samples\n",
      "Epoch 1/50\n",
      "50000/50000 [==============================] - 2s 40us/step - loss: 2.2058 - acc: 0.2766 - val_loss: 2.0949 - val_acc: 0.3089\n",
      "Epoch 2/50\n",
      "50000/50000 [==============================] - 1s 26us/step - loss: 1.7413 - acc: 0.3950 - val_loss: 1.8137 - val_acc: 0.3763\n",
      "Epoch 3/50\n",
      "50000/50000 [==============================] - 1s 24us/step - loss: 1.6138 - acc: 0.4360 - val_loss: 1.6971 - val_acc: 0.4014\n",
      "Epoch 4/50\n",
      "50000/50000 [==============================] - 2s 31us/step - loss: 1.5393 - acc: 0.4623 - val_loss: 1.6467 - val_acc: 0.4166\n",
      "Epoch 5/50\n",
      "50000/50000 [==============================] - 1s 25us/step - loss: 1.4838 - acc: 0.4823 - val_loss: 1.5853 - val_acc: 0.4392\n",
      "Epoch 6/50\n",
      "50000/50000 [==============================] - 1s 25us/step - loss: 1.4364 - acc: 0.5009 - val_loss: 1.5656 - val_acc: 0.4447\n",
      "Epoch 7/50\n",
      "50000/50000 [==============================] - 1s 26us/step - loss: 1.3980 - acc: 0.5138 - val_loss: 1.5379 - val_acc: 0.4541\n",
      "Epoch 8/50\n",
      "50000/50000 [==============================] - 1s 25us/step - loss: 1.3627 - acc: 0.5270 - val_loss: 1.5299 - val_acc: 0.4611\n",
      "Epoch 9/50\n",
      "50000/50000 [==============================] - 1s 24us/step - loss: 1.3305 - acc: 0.5385 - val_loss: 1.5122 - val_acc: 0.4701\n",
      "Epoch 10/50\n",
      "50000/50000 [==============================] - 1s 26us/step - loss: 1.3035 - acc: 0.5482 - val_loss: 1.4929 - val_acc: 0.4720\n",
      "Epoch 11/50\n",
      "50000/50000 [==============================] - 1s 24us/step - loss: 1.2758 - acc: 0.5586 - val_loss: 1.4954 - val_acc: 0.4758\n",
      "Epoch 12/50\n",
      "50000/50000 [==============================] - 1s 24us/step - loss: 1.2482 - acc: 0.5696 - val_loss: 1.4955 - val_acc: 0.4744\n",
      "Epoch 13/50\n",
      "50000/50000 [==============================] - 1s 25us/step - loss: 1.2241 - acc: 0.5786 - val_loss: 1.4801 - val_acc: 0.4772\n",
      "Epoch 14/50\n",
      "50000/50000 [==============================] - 1s 27us/step - loss: 1.1991 - acc: 0.5878 - val_loss: 1.4726 - val_acc: 0.4842\n",
      "Epoch 15/50\n",
      "50000/50000 [==============================] - 1s 26us/step - loss: 1.1748 - acc: 0.5967 - val_loss: 1.4637 - val_acc: 0.4868\n",
      "Epoch 16/50\n",
      "50000/50000 [==============================] - 1s 25us/step - loss: 1.1526 - acc: 0.6069 - val_loss: 1.4695 - val_acc: 0.4887\n",
      "Epoch 17/50\n",
      "50000/50000 [==============================] - 1s 24us/step - loss: 1.1290 - acc: 0.6147 - val_loss: 1.4613 - val_acc: 0.4859\n",
      "Epoch 18/50\n",
      "50000/50000 [==============================] - 1s 26us/step - loss: 1.1066 - acc: 0.6237 - val_loss: 1.4594 - val_acc: 0.4852\n",
      "Epoch 19/50\n",
      "50000/50000 [==============================] - 1s 26us/step - loss: 1.0859 - acc: 0.6325 - val_loss: 1.4512 - val_acc: 0.4935\n",
      "Epoch 20/50\n",
      "50000/50000 [==============================] - 1s 26us/step - loss: 1.0648 - acc: 0.6384 - val_loss: 1.4645 - val_acc: 0.4892\n",
      "Epoch 21/50\n",
      "50000/50000 [==============================] - 1s 28us/step - loss: 1.0460 - acc: 0.6471 - val_loss: 1.4561 - val_acc: 0.4910\n",
      "Epoch 22/50\n",
      "50000/50000 [==============================] - 1s 26us/step - loss: 1.0231 - acc: 0.6560 - val_loss: 1.4664 - val_acc: 0.4868\n",
      "Epoch 23/50\n",
      "50000/50000 [==============================] - 1s 25us/step - loss: 1.0019 - acc: 0.6624 - val_loss: 1.4712 - val_acc: 0.4804\n",
      "Epoch 24/50\n",
      "50000/50000 [==============================] - 1s 26us/step - loss: 0.9805 - acc: 0.6729 - val_loss: 1.4691 - val_acc: 0.4899\n",
      "Epoch 25/50\n",
      "50000/50000 [==============================] - 1s 25us/step - loss: 0.9621 - acc: 0.6801 - val_loss: 1.4586 - val_acc: 0.4959\n",
      "Epoch 26/50\n",
      "50000/50000 [==============================] - 1s 24us/step - loss: 0.9427 - acc: 0.6868 - val_loss: 1.4739 - val_acc: 0.4884\n",
      "Epoch 27/50\n",
      "50000/50000 [==============================] - 1s 24us/step - loss: 0.9205 - acc: 0.6945 - val_loss: 1.4701 - val_acc: 0.4928\n",
      "Epoch 28/50\n",
      "50000/50000 [==============================] - 1s 25us/step - loss: 0.9023 - acc: 0.7025 - val_loss: 1.4714 - val_acc: 0.4999\n",
      "Epoch 29/50\n",
      "50000/50000 [==============================] - 1s 24us/step - loss: 0.8816 - acc: 0.7093 - val_loss: 1.4809 - val_acc: 0.4923\n",
      "Epoch 30/50\n",
      "50000/50000 [==============================] - 1s 26us/step - loss: 0.8605 - acc: 0.7174 - val_loss: 1.4823 - val_acc: 0.4941\n",
      "Epoch 31/50\n",
      "50000/50000 [==============================] - 1s 24us/step - loss: 0.8411 - acc: 0.7257 - val_loss: 1.4850 - val_acc: 0.4906\n",
      "Epoch 32/50\n",
      "50000/50000 [==============================] - 1s 24us/step - loss: 0.8213 - acc: 0.7340 - val_loss: 1.4910 - val_acc: 0.4954\n",
      "Epoch 33/50\n",
      "50000/50000 [==============================] - 1s 24us/step - loss: 0.8019 - acc: 0.7392 - val_loss: 1.5193 - val_acc: 0.4933\n",
      "Epoch 34/50\n",
      "50000/50000 [==============================] - 1s 25us/step - loss: 0.7826 - acc: 0.7494 - val_loss: 1.5074 - val_acc: 0.4961\n",
      "Epoch 35/50\n",
      "50000/50000 [==============================] - 1s 29us/step - loss: 0.7629 - acc: 0.7558 - val_loss: 1.5159 - val_acc: 0.4895\n",
      "Epoch 36/50\n",
      "50000/50000 [==============================] - 1s 26us/step - loss: 0.7435 - acc: 0.7629 - val_loss: 1.5252 - val_acc: 0.4918\n",
      "Epoch 37/50\n",
      "50000/50000 [==============================] - 1s 25us/step - loss: 0.7229 - acc: 0.7719 - val_loss: 1.5313 - val_acc: 0.4963\n",
      "Epoch 38/50\n",
      "50000/50000 [==============================] - 1s 24us/step - loss: 0.7050 - acc: 0.7775 - val_loss: 1.5491 - val_acc: 0.4926\n",
      "Epoch 39/50\n",
      "50000/50000 [==============================] - 1s 27us/step - loss: 0.6876 - acc: 0.7858 - val_loss: 1.5484 - val_acc: 0.4958\n",
      "Epoch 40/50\n",
      "50000/50000 [==============================] - 1s 28us/step - loss: 0.6703 - acc: 0.7907 - val_loss: 1.5907 - val_acc: 0.4895\n",
      "Epoch 41/50\n",
      "50000/50000 [==============================] - 1s 25us/step - loss: 0.6498 - acc: 0.8000 - val_loss: 1.5795 - val_acc: 0.4896\n",
      "Epoch 42/50\n",
      "50000/50000 [==============================] - 1s 26us/step - loss: 0.6312 - acc: 0.8078 - val_loss: 1.5919 - val_acc: 0.4948\n",
      "Epoch 43/50\n",
      "50000/50000 [==============================] - 1s 26us/step - loss: 0.6126 - acc: 0.8164 - val_loss: 1.6095 - val_acc: 0.4880\n",
      "Epoch 44/50\n",
      "50000/50000 [==============================] - 1s 26us/step - loss: 0.5953 - acc: 0.8223 - val_loss: 1.6060 - val_acc: 0.4963\n",
      "Epoch 45/50\n",
      "50000/50000 [==============================] - 1s 25us/step - loss: 0.5792 - acc: 0.8289 - val_loss: 1.6151 - val_acc: 0.4925\n",
      "Epoch 46/50\n",
      "50000/50000 [==============================] - 1s 24us/step - loss: 0.5610 - acc: 0.8361 - val_loss: 1.6523 - val_acc: 0.4907\n",
      "Epoch 47/50\n",
      "50000/50000 [==============================] - 1s 28us/step - loss: 0.5438 - acc: 0.8427 - val_loss: 1.6562 - val_acc: 0.4890\n",
      "Epoch 48/50\n",
      "50000/50000 [==============================] - 1s 27us/step - loss: 0.5275 - acc: 0.8495 - val_loss: 1.6648 - val_acc: 0.4855\n",
      "Epoch 49/50\n",
      "50000/50000 [==============================] - 1s 25us/step - loss: 0.5111 - acc: 0.8563 - val_loss: 1.6652 - val_acc: 0.4887\n"
     ]
    },
    {
     "name": "stdout",
     "output_type": "stream",
     "text": [
      "Epoch 50/50\n",
      "50000/50000 [==============================] - 1s 27us/step - loss: 0.4937 - acc: 0.8616 - val_loss: 1.6884 - val_acc: 0.4885\n"
     ]
    }
   ],
   "source": [
    "# 載入 Callbacks\n",
    "\"\"\"Code Here\n",
    "設定 callbacks: model checkpoint\n",
    "試比較 save_best_only 與否的差異\n",
    "請僅存入將 save_weights_only 設定為 True, 並嘗試 reset ipynb 並將模型與權重重新建回並預測 x_test\n",
    "\"\"\"\n",
    "from keras.callbacks import ModelCheckpoint\n",
    "from keras.layers import BatchNormalization\n",
    "\n",
    "model_ckpt = ModelCheckpoint(filepath=\"./tmp2.h5\", \n",
    "                             monitor=\"val_loss\", \n",
    "                             save_best_only=False,\n",
    "                             save_weights_only=True)\n",
    "\n",
    "results = {}\n",
    "\"\"\"Code Here\n",
    "撰寫你的訓練流程並將結果用 dictionary 紀錄\n",
    "\"\"\"\n",
    "model2 = build_mlp(input_shape=x_train.shape[1:])\n",
    "model2.summary()\n",
    "optimizer = keras.optimizers.SGD(lr=LEARNING_RATE, nesterov=True, momentum=MOMENTUM)\n",
    "model2.compile(loss=\"categorical_crossentropy\", metrics=[\"accuracy\"], optimizer=optimizer)\n",
    "\n",
    "model2.fit(x_train, y_train, \n",
    "          epochs=EPOCHS, \n",
    "          batch_size=BATCH_SIZE, \n",
    "          validation_data=(x_test, y_test), \n",
    "          shuffle=True,\n",
    "          callbacks=[model_ckpt]\n",
    "         )\n",
    "\n",
    "# Collect results\n",
    "train_loss = model2.history.history[\"loss\"]\n",
    "valid_loss = model2.history.history[\"val_loss\"]\n",
    "train_acc = model2.history.history[\"acc\"]\n",
    "valid_acc = model2.history.history[\"val_acc\"]\n",
    "\n"
   ]
  },
  {
   "cell_type": "code",
   "execution_count": 10,
   "metadata": {},
   "outputs": [
    {
     "name": "stdout",
     "output_type": "stream",
     "text": [
      "10000/10000 [==============================] - 1s 89us/step\n"
     ]
    },
    {
     "data": {
      "image/png": "[encoded data removed]",
      "text/plain": [
       "<Figure size 432x288 with 1 Axes>"
      ]
     },
     "metadata": {
      "needs_background": "light"
     },
     "output_type": "display_data"
    },
    {
     "data": {
      "image/png": "[encoded data removed]",
      "text/plain": [
       "<Figure size 432x288 with 1 Axes>"
      ]
     },
     "metadata": {
      "needs_background": "light"
     },
     "output_type": "display_data"
    }
   ],
   "source": [
    "model.load_weights(\"./tmp2.h5\")\n",
    "loss_loadback, acc_loadback = model.evaluate(x_test, y_test)\n",
    "\n",
    "\n",
    "plt.plot(range(len(train_loss)), train_loss, label=\"train loss\")\n",
    "plt.plot(range(len(valid_loss)), valid_loss, label=\"valid loss\")\n",
    "plt.hlines(y=loss_loadback, xmin=0, xmax=len(train_loss), colors='r', linestyles='--')\n",
    "plt.legend()\n",
    "plt.title(\"Loss\")\n",
    "plt.show()\n",
    "\n",
    "plt.plot(range(len(train_acc)), train_acc, label=\"train accuracy\")\n",
    "plt.plot(range(len(valid_acc)), valid_acc, label=\"valid accuracy\")\n",
    "plt.hlines(y=acc_loadback, xmin=0, xmax=len(train_loss), colors='r', linestyles='--')\n",
    "plt.legend()\n",
    "plt.title(\"Accuracy\")\n",
    "plt.show()"
   ]
  },
  {
   "cell_type": "code",
   "execution_count": null,
   "metadata": {},
   "outputs": [],
   "source": []
  }
 ],
 "metadata": {
  "kernelspec": {
   "display_name": "Python 3",
   "language": "python",
   "name": "python3"
  },
  "language_info": {
   "codemirror_mode": {
    "name": "ipython",
    "version": 3
   },
   "file_extension": ".py",
   "mimetype": "text/x-python",
   "name": "python",
   "nbconvert_exporter": "python",
   "pygments_lexer": "ipython3",
   "version": "3.6.8"
  }
 },
 "nbformat": 4,
 "nbformat_minor": 2
}

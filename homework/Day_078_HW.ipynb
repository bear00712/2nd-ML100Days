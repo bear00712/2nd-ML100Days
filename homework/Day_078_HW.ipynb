{
 "cells": [
  {
   "cell_type": "markdown",
   "metadata": {},
   "source": [
    "## Work\n",
    "1. 請嘗試將 preproc_x 替換成以每筆資料的 min/max 進行標準化至 -1 ~ 1 間，再進行訓練\n",
    "2. 請嘗試將 mlp 疊更深 (e.g 5~10 層)，進行訓練後觀察 learning curve 的走勢\n",
    "3. (optional) 請改用 GPU 進行訓練 (如果你有 GPU 的話)，比較使用 CPU 與 GPU 的訓練速度"
   ]
  },
  {
   "cell_type": "code",
   "execution_count": 1,
   "metadata": {},
   "outputs": [
    {
     "name": "stderr",
     "output_type": "stream",
     "text": [
      "'nvidia-smi' 不是內部或外部命令、可執行的程式或批次檔。\n"
     ]
    }
   ],
   "source": [
    "## \n",
    "\"\"\"\n",
    "Your code here (optional)\n",
    "確認硬體資源\n",
    "\"\"\"\n",
    "!nvidia-smi"
   ]
  },
  {
   "cell_type": "code",
   "execution_count": 2,
   "metadata": {},
   "outputs": [
    {
     "name": "stderr",
     "output_type": "stream",
     "text": [
      "Using TensorFlow backend.\n"
     ]
    }
   ],
   "source": [
    "import os\n",
    "import keras\n",
    "\n",
    "# 請嘗試設定 GPU：os.environ\n",
    "os.environ[\"CUDA_VISIBLE_DEVICES\"] = \"\""
   ]
  },
  {
   "cell_type": "code",
   "execution_count": 3,
   "metadata": {},
   "outputs": [],
   "source": [
    "train, test = keras.datasets.cifar10.load_data()"
   ]
  },
  {
   "cell_type": "code",
   "execution_count": 4,
   "metadata": {},
   "outputs": [],
   "source": [
    "## 資料前處理\n",
    "\"\"\"\n",
    "Your code here\n",
    "\"\"\"\n",
    "def preproc_x(x, flatten=True):\n",
    "    if flatten:\n",
    "        x = x.reshape((len(x), -1))\n",
    "        min_max_scaler = preprocessing.MinMaxScaler()\n",
    "        x = min_max_scaler.fit_transform(x)\n",
    "    return x\n",
    "\n",
    "def preproc_y(y, num_classes=10):\n",
    "    if y.shape[-1] == 1:\n",
    "        y = keras.utils.to_categorical(y, num_classes)\n",
    "    return y  "
   ]
  },
  {
   "cell_type": "code",
   "execution_count": 7,
   "metadata": {},
   "outputs": [
    {
     "name": "stdout",
     "output_type": "stream",
     "text": [
      "Collecting sklearn\n",
      "Collecting scikit-learn (from sklearn)\n",
      "  Downloading https://files.pythonhosted.org/packages/d6/9e/6a42486ffa64711fb868e5d4a9167153417e7414c3d8d3e0d627cf391e1e/scikit_learn-0.21.3-cp37-cp37m-win_amd64.whl (5.9MB)\n",
      "Collecting joblib>=0.11 (from scikit-learn->sklearn)\n",
      "  Downloading https://files.pythonhosted.org/packages/8f/42/155696f85f344c066e17af287359c9786b436b1bf86029bb3411283274f3/joblib-0.14.0-py2.py3-none-any.whl (294kB)\n",
      "Requirement already satisfied: numpy>=1.11.0 in c:\\users\\user\\anaconda3\\envs\\notebook\\lib\\site-packages (from scikit-learn->sklearn) (1.16.5)\n",
      "Requirement already satisfied: scipy>=0.17.0 in c:\\users\\user\\anaconda3\\envs\\notebook\\lib\\site-packages (from scikit-learn->sklearn) (1.3.1)\n",
      "Installing collected packages: joblib, scikit-learn, sklearn\n",
      "Successfully installed joblib-0.14.0 scikit-learn-0.21.3 sklearn-0.0\n"
     ]
    }
   ],
   "source": [
    "!pip install sklearn"
   ]
  },
  {
   "cell_type": "code",
   "execution_count": 8,
   "metadata": {},
   "outputs": [],
   "source": [
    "from sklearn import preprocessing\n",
    "x_train, y_train = train\n",
    "x_test, y_test = test\n",
    "\n",
    "# Preproc the inputs\n",
    "x_train = preproc_x(x_train)\n",
    "x_test = preproc_x(x_test)\n",
    "\n",
    "# Preprc the outputs\n",
    "y_train = preproc_y(y_train)\n",
    "y_test = preproc_y(y_test)"
   ]
  },
  {
   "cell_type": "code",
   "execution_count": 11,
   "metadata": {},
   "outputs": [
    {
     "name": "stdout",
     "output_type": "stream",
     "text": [
      "WARNING:tensorflow:From C:\\Users\\user\\Anaconda3\\envs\\notebook\\lib\\site-packages\\keras\\backend\\tensorflow_backend.py:74: The name tf.get_default_graph is deprecated. Please use tf.compat.v1.get_default_graph instead.\n",
      "\n",
      "WARNING:tensorflow:From C:\\Users\\user\\Anaconda3\\envs\\notebook\\lib\\site-packages\\keras\\backend\\tensorflow_backend.py:517: The name tf.placeholder is deprecated. Please use tf.compat.v1.placeholder instead.\n",
      "\n",
      "WARNING:tensorflow:From C:\\Users\\user\\Anaconda3\\envs\\notebook\\lib\\site-packages\\keras\\backend\\tensorflow_backend.py:4138: The name tf.random_uniform is deprecated. Please use tf.random.uniform instead.\n",
      "\n",
      "_________________________________________________________________\n",
      "Layer (type)                 Output Shape              Param #   \n",
      "=================================================================\n",
      "input_1 (InputLayer)         (None, 3072)              0         \n",
      "_________________________________________________________________\n",
      "hidden_layer1 (Dense)        (None, 512)               1573376   \n",
      "_________________________________________________________________\n",
      "hidden_layer2 (Dense)        (None, 256)               131328    \n",
      "_________________________________________________________________\n",
      "hidden_layer3 (Dense)        (None, 128)               32896     \n",
      "_________________________________________________________________\n",
      "hidden_layer4 (Dense)        (None, 128)               16512     \n",
      "_________________________________________________________________\n",
      "hidden_layer5 (Dense)        (None, 128)               16512     \n",
      "_________________________________________________________________\n",
      "hidden_layer6 (Dense)        (None, 64)                8256      \n",
      "_________________________________________________________________\n",
      "output (Dense)               (None, 10)                650       \n",
      "=================================================================\n",
      "Total params: 1,779,530\n",
      "Trainable params: 1,779,530\n",
      "Non-trainable params: 0\n",
      "_________________________________________________________________\n"
     ]
    }
   ],
   "source": [
    "\"\"\"Code Here\n",
    "建立你的神經網路\n",
    "\"\"\"\n",
    "def build_mlp(input_shape, output_units=10, num_neurons=[512, 256, 128, 128, 128, 64]):\n",
    "    input_layer = keras.layers.Input(input_shape)\n",
    "    \n",
    "    for i, n_units in enumerate(num_neurons):\n",
    "        if i == 0:\n",
    "            x = keras.layers.Dense(units=n_units, activation=\"relu\", name=\"hidden_layer\"+str(i+1))(input_layer)\n",
    "        else:\n",
    "            x = keras.layers.Dense(units=n_units, activation=\"relu\", name=\"hidden_layer\"+str(i+1))(x)\n",
    "    \n",
    "    out = keras.layers.Dense(units=output_units, activation=\"softmax\", name=\"output\")(x)\n",
    "    \n",
    "    model = keras.models.Model(inputs=[input_layer], outputs=[out])\n",
    "    return model\n",
    "\n",
    "\n",
    "model = build_mlp(input_shape=x_train.shape[1:])\n",
    "model.summary()\n"
   ]
  },
  {
   "cell_type": "code",
   "execution_count": 12,
   "metadata": {},
   "outputs": [],
   "source": [
    "## 超參數設定\n",
    "LEARNING_RATE = 0.001\n",
    "EPOCHS = 100\n",
    "BATCH_SIZE = 256"
   ]
  },
  {
   "cell_type": "code",
   "execution_count": 13,
   "metadata": {},
   "outputs": [
    {
     "name": "stdout",
     "output_type": "stream",
     "text": [
      "WARNING:tensorflow:From C:\\Users\\user\\Anaconda3\\envs\\notebook\\lib\\site-packages\\keras\\optimizers.py:790: The name tf.train.Optimizer is deprecated. Please use tf.compat.v1.train.Optimizer instead.\n",
      "\n",
      "WARNING:tensorflow:From C:\\Users\\user\\Anaconda3\\envs\\notebook\\lib\\site-packages\\keras\\backend\\tensorflow_backend.py:3295: The name tf.log is deprecated. Please use tf.math.log instead.\n",
      "\n"
     ]
    }
   ],
   "source": [
    "optimizer = keras.optimizers.Adam(lr=LEARNING_RATE)\n",
    "model.compile(loss=\"categorical_crossentropy\", metrics=[\"accuracy\"], optimizer=optimizer)"
   ]
  },
  {
   "cell_type": "code",
   "execution_count": 14,
   "metadata": {},
   "outputs": [
    {
     "name": "stdout",
     "output_type": "stream",
     "text": [
      "WARNING:tensorflow:From C:\\Users\\user\\Anaconda3\\envs\\notebook\\lib\\site-packages\\tensorflow\\python\\ops\\math_grad.py:1250: add_dispatch_support.<locals>.wrapper (from tensorflow.python.ops.array_ops) is deprecated and will be removed in a future version.\n",
      "Instructions for updating:\n",
      "Use tf.where in 2.0, which has the same broadcast rule as np.where\n",
      "WARNING:tensorflow:From C:\\Users\\user\\Anaconda3\\envs\\notebook\\lib\\site-packages\\keras\\backend\\tensorflow_backend.py:986: The name tf.assign_add is deprecated. Please use tf.compat.v1.assign_add instead.\n",
      "\n",
      "Train on 50000 samples, validate on 10000 samples\n",
      "Epoch 1/100\n",
      "50000/50000 [==============================] - 11s 214us/step - loss: 1.9374 - acc: 0.2912 - val_loss: 1.7565 - val_acc: 0.3635\n",
      "Epoch 2/100\n",
      "50000/50000 [==============================] - 9s 175us/step - loss: 1.7363 - acc: 0.3735 - val_loss: 1.6561 - val_acc: 0.4054\n",
      "Epoch 3/100\n",
      "50000/50000 [==============================] - 8s 167us/step - loss: 1.6540 - acc: 0.4033 - val_loss: 1.6976 - val_acc: 0.3939\n",
      "Epoch 4/100\n",
      "50000/50000 [==============================] - 8s 168us/step - loss: 1.5897 - acc: 0.4309 - val_loss: 1.5610 - val_acc: 0.4395\n",
      "Epoch 5/100\n",
      "50000/50000 [==============================] - 8s 168us/step - loss: 1.5385 - acc: 0.4486 - val_loss: 1.5275 - val_acc: 0.4503\n",
      "Epoch 6/100\n",
      "50000/50000 [==============================] - 8s 167us/step - loss: 1.4992 - acc: 0.4608 - val_loss: 1.4991 - val_acc: 0.4627\n",
      "Epoch 7/100\n",
      "50000/50000 [==============================] - 8s 168us/step - loss: 1.4583 - acc: 0.4775 - val_loss: 1.4668 - val_acc: 0.4782\n",
      "Epoch 8/100\n",
      "50000/50000 [==============================] - 8s 168us/step - loss: 1.4232 - acc: 0.4911 - val_loss: 1.4554 - val_acc: 0.4775\n",
      "Epoch 9/100\n",
      "50000/50000 [==============================] - 8s 167us/step - loss: 1.4051 - acc: 0.4938 - val_loss: 1.4569 - val_acc: 0.4767\n",
      "Epoch 10/100\n",
      "50000/50000 [==============================] - 8s 169us/step - loss: 1.3817 - acc: 0.5070 - val_loss: 1.4287 - val_acc: 0.4931\n",
      "Epoch 11/100\n",
      "50000/50000 [==============================] - 8s 169us/step - loss: 1.3396 - acc: 0.5201 - val_loss: 1.3989 - val_acc: 0.5001\n",
      "Epoch 12/100\n",
      "50000/50000 [==============================] - 8s 166us/step - loss: 1.3189 - acc: 0.5285 - val_loss: 1.4246 - val_acc: 0.4908\n",
      "Epoch 13/100\n",
      "50000/50000 [==============================] - 9s 174us/step - loss: 1.3033 - acc: 0.5330 - val_loss: 1.3952 - val_acc: 0.5063\n",
      "Epoch 14/100\n",
      "50000/50000 [==============================] - 9s 171us/step - loss: 1.2766 - acc: 0.5431 - val_loss: 1.4435 - val_acc: 0.4850\n",
      "Epoch 15/100\n",
      "50000/50000 [==============================] - 8s 169us/step - loss: 1.2562 - acc: 0.5526 - val_loss: 1.4290 - val_acc: 0.4912\n",
      "Epoch 16/100\n",
      "50000/50000 [==============================] - 9s 171us/step - loss: 1.2218 - acc: 0.5613 - val_loss: 1.4228 - val_acc: 0.4959\n",
      "Epoch 17/100\n",
      "50000/50000 [==============================] - 8s 170us/step - loss: 1.2065 - acc: 0.5692 - val_loss: 1.3882 - val_acc: 0.5126\n",
      "Epoch 18/100\n",
      "50000/50000 [==============================] - 12s 248us/step - loss: 1.1800 - acc: 0.5776 - val_loss: 1.3887 - val_acc: 0.5142\n",
      "Epoch 19/100\n",
      "50000/50000 [==============================] - 9s 177us/step - loss: 1.1717 - acc: 0.5802 - val_loss: 1.3747 - val_acc: 0.5209\n",
      "Epoch 20/100\n",
      "50000/50000 [==============================] - 9s 184us/step - loss: 1.1467 - acc: 0.5893 - val_loss: 1.3966 - val_acc: 0.5077\n",
      "Epoch 21/100\n",
      "50000/50000 [==============================] - 9s 171us/step - loss: 1.1255 - acc: 0.5959 - val_loss: 1.4394 - val_acc: 0.4995\n",
      "Epoch 22/100\n",
      "50000/50000 [==============================] - 9s 171us/step - loss: 1.1058 - acc: 0.6012 - val_loss: 1.3995 - val_acc: 0.5180\n",
      "Epoch 23/100\n",
      "50000/50000 [==============================] - 9s 178us/step - loss: 1.0888 - acc: 0.6079 - val_loss: 1.4283 - val_acc: 0.5073\n",
      "Epoch 24/100\n",
      "50000/50000 [==============================] - 9s 179us/step - loss: 1.0689 - acc: 0.6155 - val_loss: 1.4361 - val_acc: 0.5088\n",
      "Epoch 25/100\n",
      "50000/50000 [==============================] - 9s 177us/step - loss: 1.0405 - acc: 0.6260 - val_loss: 1.4186 - val_acc: 0.5176\n",
      "Epoch 26/100\n",
      "50000/50000 [==============================] - 8s 169us/step - loss: 1.0251 - acc: 0.6311 - val_loss: 1.4175 - val_acc: 0.5104\n",
      "Epoch 27/100\n",
      "50000/50000 [==============================] - 9s 171us/step - loss: 0.9956 - acc: 0.6420 - val_loss: 1.4822 - val_acc: 0.5112\n",
      "Epoch 28/100\n",
      "50000/50000 [==============================] - 9s 172us/step - loss: 0.9881 - acc: 0.6453 - val_loss: 1.4446 - val_acc: 0.5108\n",
      "Epoch 29/100\n",
      "50000/50000 [==============================] - 9s 178us/step - loss: 0.9672 - acc: 0.6504 - val_loss: 1.4692 - val_acc: 0.5169\n",
      "Epoch 30/100\n",
      "50000/50000 [==============================] - 9s 170us/step - loss: 0.9504 - acc: 0.6561 - val_loss: 1.4864 - val_acc: 0.5112\n",
      "Epoch 31/100\n",
      "50000/50000 [==============================] - 9s 180us/step - loss: 0.9313 - acc: 0.6638 - val_loss: 1.4862 - val_acc: 0.5134\n",
      "Epoch 32/100\n",
      "50000/50000 [==============================] - 9s 171us/step - loss: 0.8958 - acc: 0.6772 - val_loss: 1.4916 - val_acc: 0.5200\n",
      "Epoch 33/100\n",
      "50000/50000 [==============================] - 8s 168us/step - loss: 0.8826 - acc: 0.6839 - val_loss: 1.5194 - val_acc: 0.5110\n",
      "Epoch 34/100\n",
      "50000/50000 [==============================] - 9s 170us/step - loss: 0.8724 - acc: 0.6850 - val_loss: 1.5666 - val_acc: 0.5170\n",
      "Epoch 35/100\n",
      "50000/50000 [==============================] - 8s 168us/step - loss: 0.8492 - acc: 0.6921 - val_loss: 1.5527 - val_acc: 0.5092\n",
      "Epoch 36/100\n",
      "50000/50000 [==============================] - 9s 173us/step - loss: 0.8333 - acc: 0.6961 - val_loss: 1.6140 - val_acc: 0.5110\n",
      "Epoch 37/100\n",
      "50000/50000 [==============================] - 8s 170us/step - loss: 0.8123 - acc: 0.7068 - val_loss: 1.5610 - val_acc: 0.5162\n",
      "Epoch 38/100\n",
      "50000/50000 [==============================] - 8s 170us/step - loss: 0.8067 - acc: 0.7075 - val_loss: 1.5889 - val_acc: 0.5123\n",
      "Epoch 39/100\n",
      "50000/50000 [==============================] - 9s 170us/step - loss: 0.7889 - acc: 0.7150 - val_loss: 1.6190 - val_acc: 0.5024\n",
      "Epoch 40/100\n",
      "50000/50000 [==============================] - 8s 168us/step - loss: 0.7758 - acc: 0.7187 - val_loss: 1.6838 - val_acc: 0.5058\n",
      "Epoch 41/100\n",
      "50000/50000 [==============================] - 8s 170us/step - loss: 0.7673 - acc: 0.7228 - val_loss: 1.6733 - val_acc: 0.5110\n",
      "Epoch 42/100\n",
      "50000/50000 [==============================] - 8s 170us/step - loss: 0.7428 - acc: 0.7333 - val_loss: 1.7416 - val_acc: 0.5126\n",
      "Epoch 43/100\n",
      "50000/50000 [==============================] - 9s 178us/step - loss: 0.7323 - acc: 0.7355 - val_loss: 1.8075 - val_acc: 0.4961\n",
      "Epoch 44/100\n",
      "50000/50000 [==============================] - 9s 176us/step - loss: 0.7120 - acc: 0.7420 - val_loss: 1.6823 - val_acc: 0.5011\n",
      "Epoch 45/100\n",
      "50000/50000 [==============================] - 8s 153us/step - loss: 0.7047 - acc: 0.7455 - val_loss: 1.8135 - val_acc: 0.5013\n",
      "Epoch 46/100\n",
      "50000/50000 [==============================] - 8s 152us/step - loss: 0.6900 - acc: 0.7505 - val_loss: 1.8745 - val_acc: 0.4958\n",
      "Epoch 47/100\n",
      "50000/50000 [==============================] - 8s 153us/step - loss: 0.6710 - acc: 0.7553 - val_loss: 1.8068 - val_acc: 0.5075\n",
      "Epoch 48/100\n",
      "50000/50000 [==============================] - 8s 159us/step - loss: 0.6541 - acc: 0.7610 - val_loss: 1.8590 - val_acc: 0.5063\n",
      "Epoch 49/100\n",
      "50000/50000 [==============================] - 8s 154us/step - loss: 0.6448 - acc: 0.7664 - val_loss: 1.9342 - val_acc: 0.5038\n",
      "Epoch 50/100\n",
      "50000/50000 [==============================] - 8s 155us/step - loss: 0.6162 - acc: 0.7767 - val_loss: 1.9899 - val_acc: 0.4991\n",
      "Epoch 51/100\n",
      "50000/50000 [==============================] - 8s 157us/step - loss: 0.6225 - acc: 0.7750 - val_loss: 1.9792 - val_acc: 0.5032\n",
      "Epoch 52/100\n",
      "50000/50000 [==============================] - 8s 153us/step - loss: 0.6067 - acc: 0.7806 - val_loss: 1.9573 - val_acc: 0.5048\n",
      "Epoch 53/100\n",
      "50000/50000 [==============================] - 8s 153us/step - loss: 0.6029 - acc: 0.7810 - val_loss: 1.9490 - val_acc: 0.5033\n",
      "Epoch 54/100\n",
      "50000/50000 [==============================] - 8s 154us/step - loss: 0.5879 - acc: 0.7869 - val_loss: 2.0104 - val_acc: 0.5027\n",
      "Epoch 55/100\n"
     ]
    },
    {
     "name": "stdout",
     "output_type": "stream",
     "text": [
      "50000/50000 [==============================] - 8s 154us/step - loss: 0.5791 - acc: 0.7889 - val_loss: 2.0331 - val_acc: 0.4970\n",
      "Epoch 56/100\n",
      "50000/50000 [==============================] - 8s 158us/step - loss: 0.5441 - acc: 0.8039 - val_loss: 2.0869 - val_acc: 0.4989\n",
      "Epoch 57/100\n",
      "50000/50000 [==============================] - 8s 152us/step - loss: 0.5654 - acc: 0.7942 - val_loss: 2.1047 - val_acc: 0.4944\n",
      "Epoch 58/100\n",
      "50000/50000 [==============================] - 8s 152us/step - loss: 0.5372 - acc: 0.8057 - val_loss: 2.1303 - val_acc: 0.4944\n",
      "Epoch 59/100\n",
      "50000/50000 [==============================] - 9s 170us/step - loss: 0.5581 - acc: 0.7985 - val_loss: 2.1218 - val_acc: 0.4984\n",
      "Epoch 60/100\n",
      "50000/50000 [==============================] - 8s 152us/step - loss: 0.5101 - acc: 0.8126 - val_loss: 2.2334 - val_acc: 0.5062\n",
      "Epoch 61/100\n",
      "50000/50000 [==============================] - 8s 152us/step - loss: 0.5084 - acc: 0.8148 - val_loss: 2.1971 - val_acc: 0.5012\n",
      "Epoch 62/100\n",
      "50000/50000 [==============================] - 8s 152us/step - loss: 0.4987 - acc: 0.8182 - val_loss: 2.3235 - val_acc: 0.4894\n",
      "Epoch 63/100\n",
      "50000/50000 [==============================] - 8s 155us/step - loss: 0.5048 - acc: 0.8166 - val_loss: 2.3517 - val_acc: 0.5001\n",
      "Epoch 64/100\n",
      "50000/50000 [==============================] - 8s 155us/step - loss: 0.4990 - acc: 0.8193 - val_loss: 2.2286 - val_acc: 0.4905\n",
      "Epoch 65/100\n",
      "50000/50000 [==============================] - 8s 153us/step - loss: 0.4760 - acc: 0.8282 - val_loss: 2.3162 - val_acc: 0.5025\n",
      "Epoch 66/100\n",
      "50000/50000 [==============================] - 8s 153us/step - loss: 0.4675 - acc: 0.8295 - val_loss: 2.4528 - val_acc: 0.4954\n",
      "Epoch 67/100\n",
      "50000/50000 [==============================] - 8s 155us/step - loss: 0.4742 - acc: 0.8280 - val_loss: 2.3430 - val_acc: 0.4957\n",
      "Epoch 68/100\n",
      "50000/50000 [==============================] - 8s 154us/step - loss: 0.4819 - acc: 0.8261 - val_loss: 2.4113 - val_acc: 0.4997\n",
      "Epoch 69/100\n",
      "50000/50000 [==============================] - 8s 153us/step - loss: 0.4503 - acc: 0.8357 - val_loss: 2.4369 - val_acc: 0.5000\n",
      "Epoch 70/100\n",
      "50000/50000 [==============================] - 8s 155us/step - loss: 0.4435 - acc: 0.8391 - val_loss: 2.4753 - val_acc: 0.4942\n",
      "Epoch 71/100\n",
      "50000/50000 [==============================] - 8s 156us/step - loss: 0.4521 - acc: 0.8366 - val_loss: 2.4274 - val_acc: 0.4968\n",
      "Epoch 72/100\n",
      "50000/50000 [==============================] - 8s 155us/step - loss: 0.4330 - acc: 0.8425 - val_loss: 2.4416 - val_acc: 0.4984\n",
      "Epoch 73/100\n",
      "50000/50000 [==============================] - 8s 155us/step - loss: 0.4166 - acc: 0.8484 - val_loss: 2.6534 - val_acc: 0.4992\n",
      "Epoch 74/100\n",
      "50000/50000 [==============================] - 8s 154us/step - loss: 0.4065 - acc: 0.8537 - val_loss: 2.5764 - val_acc: 0.4955\n",
      "Epoch 75/100\n",
      "50000/50000 [==============================] - 8s 162us/step - loss: 0.4193 - acc: 0.8472 - val_loss: 2.6730 - val_acc: 0.4972\n",
      "Epoch 76/100\n",
      "50000/50000 [==============================] - 8s 154us/step - loss: 0.4132 - acc: 0.8499 - val_loss: 2.5019 - val_acc: 0.4915\n",
      "Epoch 77/100\n",
      "50000/50000 [==============================] - 8s 155us/step - loss: 0.4257 - acc: 0.8465 - val_loss: 2.5736 - val_acc: 0.4921\n",
      "Epoch 78/100\n",
      "50000/50000 [==============================] - 8s 160us/step - loss: 0.3918 - acc: 0.8599 - val_loss: 2.6888 - val_acc: 0.4948\n",
      "Epoch 79/100\n",
      "50000/50000 [==============================] - 8s 158us/step - loss: 0.3934 - acc: 0.8562 - val_loss: 2.7085 - val_acc: 0.5033\n",
      "Epoch 80/100\n",
      "50000/50000 [==============================] - 8s 153us/step - loss: 0.3838 - acc: 0.8597 - val_loss: 2.7820 - val_acc: 0.4971\n",
      "Epoch 81/100\n",
      "50000/50000 [==============================] - 8s 165us/step - loss: 0.3939 - acc: 0.8574 - val_loss: 2.7270 - val_acc: 0.4989\n",
      "Epoch 82/100\n",
      "50000/50000 [==============================] - 9s 184us/step - loss: 0.3476 - acc: 0.8739 - val_loss: 2.7754 - val_acc: 0.4998\n",
      "Epoch 83/100\n",
      "50000/50000 [==============================] - 9s 180us/step - loss: 0.3698 - acc: 0.8661 - val_loss: 2.7257 - val_acc: 0.4958\n",
      "Epoch 84/100\n",
      "50000/50000 [==============================] - 9s 179us/step - loss: 0.3900 - acc: 0.8592 - val_loss: 2.8464 - val_acc: 0.4989\n",
      "Epoch 85/100\n",
      "50000/50000 [==============================] - 9s 189us/step - loss: 0.3612 - acc: 0.8704 - val_loss: 2.7786 - val_acc: 0.4889\n",
      "Epoch 86/100\n",
      "50000/50000 [==============================] - 9s 188us/step - loss: 0.3916 - acc: 0.8600 - val_loss: 2.8113 - val_acc: 0.4931\n",
      "Epoch 87/100\n",
      "50000/50000 [==============================] - 9s 170us/step - loss: 0.3501 - acc: 0.8733 - val_loss: 2.8890 - val_acc: 0.4873\n",
      "Epoch 88/100\n",
      "50000/50000 [==============================] - 8s 156us/step - loss: 0.3459 - acc: 0.8753 - val_loss: 2.8675 - val_acc: 0.4894\n",
      "Epoch 89/100\n",
      "50000/50000 [==============================] - 8s 152us/step - loss: 0.3242 - acc: 0.8830 - val_loss: 2.8260 - val_acc: 0.4898\n",
      "Epoch 90/100\n",
      "50000/50000 [==============================] - 8s 153us/step - loss: 0.3750 - acc: 0.8648 - val_loss: 2.8212 - val_acc: 0.4921\n",
      "Epoch 91/100\n",
      "50000/50000 [==============================] - 8s 151us/step - loss: 0.3598 - acc: 0.8717 - val_loss: 3.0881 - val_acc: 0.4916\n",
      "Epoch 92/100\n",
      "50000/50000 [==============================] - 8s 159us/step - loss: 0.3232 - acc: 0.8838 - val_loss: 2.9952 - val_acc: 0.4944\n",
      "Epoch 93/100\n",
      "50000/50000 [==============================] - 11s 215us/step - loss: 0.3086 - acc: 0.8874 - val_loss: 2.9896 - val_acc: 0.4932\n",
      "Epoch 94/100\n",
      "50000/50000 [==============================] - 8s 155us/step - loss: 0.3184 - acc: 0.8855 - val_loss: 3.0886 - val_acc: 0.4911\n",
      "Epoch 95/100\n",
      "50000/50000 [==============================] - 8s 153us/step - loss: 0.3644 - acc: 0.8689 - val_loss: 3.0438 - val_acc: 0.4857\n",
      "Epoch 96/100\n",
      "50000/50000 [==============================] - 8s 153us/step - loss: 0.3300 - acc: 0.8829 - val_loss: 2.8531 - val_acc: 0.4931\n",
      "Epoch 97/100\n",
      "50000/50000 [==============================] - 8s 154us/step - loss: 0.2969 - acc: 0.8920 - val_loss: 3.0791 - val_acc: 0.4991\n",
      "Epoch 98/100\n",
      "50000/50000 [==============================] - 8s 152us/step - loss: 0.2992 - acc: 0.8919 - val_loss: 3.2163 - val_acc: 0.4961\n",
      "Epoch 99/100\n",
      "50000/50000 [==============================] - 8s 152us/step - loss: 0.3275 - acc: 0.8829 - val_loss: 3.0392 - val_acc: 0.4995\n",
      "Epoch 100/100\n",
      "50000/50000 [==============================] - 8s 153us/step - loss: 0.3112 - acc: 0.8885 - val_loss: 3.2008 - val_acc: 0.4861\n"
     ]
    },
    {
     "data": {
      "text/plain": [
       "<keras.callbacks.History at 0x1ffc90ab7c8>"
      ]
     },
     "execution_count": 14,
     "metadata": {},
     "output_type": "execute_result"
    }
   ],
   "source": [
    "model.fit(x_train, y_train, \n",
    "          epochs=EPOCHS, \n",
    "          batch_size=BATCH_SIZE, \n",
    "          validation_data=(x_test, y_test), \n",
    "          shuffle=True)"
   ]
  },
  {
   "cell_type": "code",
   "execution_count": 20,
   "metadata": {},
   "outputs": [
    {
     "data": {
      "image/png": "[encoded data removed]",
      "text/plain": [
       "<Figure size 432x288 with 1 Axes>"
      ]
     },
     "metadata": {
      "needs_background": "light"
     },
     "output_type": "display_data"
    },
    {
     "data": {
      "image/png": "[encoded data removed]",
      "text/plain": [
       "<Figure size 432x288 with 1 Axes>"
      ]
     },
     "metadata": {
      "needs_background": "light"
     },
     "output_type": "display_data"
    }
   ],
   "source": [
    "%matplotlib inline \n",
    "import matplotlib.pyplot as plt\n",
    "\n",
    "\n",
    "train_loss = model.history.history[\"loss\"]\n",
    "valid_loss = model.history.history[\"val_loss\"]\n",
    "\n",
    "train_acc = model.history.history[\"acc\"]\n",
    "valid_acc = model.history.history[\"val_acc\"]\n",
    "\n",
    "plt.plot(range(len(train_loss)), train_loss, label=\"train loss\")\n",
    "plt.plot(range(len(valid_loss)), valid_loss, label=\"valid loss\")\n",
    "plt.legend()\n",
    "plt.title(\"Loss\")\n",
    "plt.show()\n",
    "\n",
    "plt.plot(range(len(train_acc)), train_acc, label=\"train accuracy\")\n",
    "plt.plot(range(len(valid_acc)), valid_acc, label=\"valid accuracy\")\n",
    "plt.legend()\n",
    "plt.title(\"Accuracy\")\n",
    "plt.show()"
   ]
  },
  {
   "cell_type": "code",
   "execution_count": null,
   "metadata": {},
   "outputs": [],
   "source": []
  }
 ],
 "metadata": {
  "kernelspec": {
   "display_name": "Python 3",
   "language": "python",
   "name": "python3"
  },
  "language_info": {
   "codemirror_mode": {
    "name": "ipython",
    "version": 3
   },
   "file_extension": ".py",
   "mimetype": "text/x-python",
   "name": "python",
   "nbconvert_exporter": "python",
   "pygments_lexer": "ipython3",
   "version": "3.7.4"
  }
 },
 "nbformat": 4,
 "nbformat_minor": 2
}
